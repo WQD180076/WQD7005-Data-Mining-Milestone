{
 "cells": [
  {
   "cell_type": "code",
   "execution_count": null,
   "metadata": {},
   "outputs": [],
   "source": [
    "from urllib.request import urlopen\n",
    "from bs4 import BeautifulSoup\n",
    "import pandas as pd\n",
    "import csv\n",
    "\n",
    "url = \"https://cointelegraph.com/tags/cryptocurrencies\"\n",
    "web = urlopen(url)\n",
    "soup = BeautifulSoup(web)"
   ]
  },
  {
   "cell_type": "code",
   "execution_count": null,
   "metadata": {},
   "outputs": [],
   "source": [
    "headline = soup.findAll('a',attrs={\"class\":\"post-preview-item-inline__title-link\"})\n",
    "all_headline = [s.text.strip()for s in headline]\n",
    "all_headline"
   ]
  },
  {
   "cell_type": "code",
   "execution_count": null,
   "metadata": {},
   "outputs": [],
   "source": [
    "all_date = []\n",
    "for date in soup.findAll('time'):\n",
    "        if date.has_attr('datetime'):\n",
    "            all_date.append(date['datetime'])\n",
    "        \n",
    "all_date"
   ]
  },
  {
   "cell_type": "code",
   "execution_count": null,
   "metadata": {},
   "outputs": [],
   "source": [
    "content  = soup.findAll('p',attrs={\"class\":\"post-preview-item-inline__text\"})\n",
    "all_content = [s1.text for s1 in content]\n",
    "all_content"
   ]
  },
  {
   "cell_type": "code",
   "execution_count": null,
   "metadata": {},
   "outputs": [],
   "source": [
    "df = pd.DataFrame({'Article Headlines':all_headline,'Article Date':all_date,'Article Content':all_content})\n",
    "df"
   ]
  },
  {
   "cell_type": "code",
   "execution_count": null,
   "metadata": {},
   "outputs": [],
   "source": [
    "#To be only runned once\n",
    "df.to_csv('cryptocurrency_news.csv', sep=',', encoding='utf-8',index=False)"
   ]
  },
  {
   "cell_type": "code",
   "execution_count": null,
   "metadata": {},
   "outputs": [],
   "source": [
    "#Append any consecutive scrapped data from website to the existing csv file\n",
    "#When running this line, csv file must be closed\n",
    "df.to_csv('cryptocurrency_news.csv', mode='a', header=False, sep=',', index=False)"
   ]
  }
 ],
 "metadata": {
  "kernelspec": {
   "display_name": "Python 3",
   "language": "python",
   "name": "python3"
  },
  "language_info": {
   "codemirror_mode": {
    "name": "ipython",
    "version": 3
   },
   "file_extension": ".py",
   "mimetype": "text/x-python",
   "name": "python",
   "nbconvert_exporter": "python",
   "pygments_lexer": "ipython3",
   "version": "3.7.1"
  }
 },
 "nbformat": 4,
 "nbformat_minor": 2
}
