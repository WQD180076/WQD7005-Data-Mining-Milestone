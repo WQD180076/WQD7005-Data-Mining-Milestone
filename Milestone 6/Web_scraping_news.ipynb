{
 "cells": [
  {
   "cell_type": "code",
   "execution_count": 1,
   "metadata": {},
   "outputs": [],
   "source": [
    "from urllib.request import urlopen\n",
    "from bs4 import BeautifulSoup\n",
    "import pandas as pd\n",
    "import csv\n",
    "\n",
    "url = \"https://cointelegraph.com/tags/cryptocurrencies\"\n",
    "web = urlopen(url)\n",
    "soup = BeautifulSoup(web)"
   ]
  },
  {
   "cell_type": "code",
   "execution_count": 2,
   "metadata": {},
   "outputs": [
    {
     "data": {
      "text/plain": [
       "['Crypto Exchange UpBit’s Operator Launches Custody Service with Ledger',\n",
       " 'Crypto Loans See Solid Growth, Platforms Attract Community Interest',\n",
       " 'AirSwap Offers Up to $20,000 For Its Bug Bounty',\n",
       " 'Bitfinex Allows Lightning Network Shopping on Bitrefill with Bitcoin',\n",
       " 'Dash Decides to Update Dash Explorer to Improved Insight API',\n",
       " 'Former Morgan Stanley Developers Launch Crypto Derivatives Exchange',\n",
       " 'Researchers Detect New North Korea-Linked MacOS Malware on Crypto Trading Site',\n",
       " 'Kazakhstan Won’t Tax Cryptocurrency Mining: Report',\n",
       " 'Crypto Exchange Gemini Burnt One-Fifth of Its GUSD Stablecoin Supply',\n",
       " 'Saxo Bank’s Outrageous Prediction 2020: Asia Launches DLT-Based Asset',\n",
       " 'No Demand for a State Digital Currency in Japan: Central Bank Governor',\n",
       " 'Ethereum’s Proposed Hard Fork ‘Muir Glacier’ Would Delay Impending Ice Age',\n",
       " 'Canadian Venture Capital Firm Secured $320 Million to Invest in Fintech Startups',\n",
       " 'Zcash Donates $40K to Canadian Private Messaging Developer',\n",
       " 'Market Mostly Trades Sideways as Bitcoin Price Hovers Around $7,300']"
      ]
     },
     "execution_count": 2,
     "metadata": {},
     "output_type": "execute_result"
    }
   ],
   "source": [
    "headline = soup.findAll('a',attrs={\"class\":\"post-preview-item-inline__title-link\"})\n",
    "all_headline = [s.text.strip()for s in headline]\n",
    "all_headline"
   ]
  },
  {
   "cell_type": "code",
   "execution_count": 3,
   "metadata": {},
   "outputs": [
    {
     "data": {
      "text/plain": [
       "['2019-12-05',\n",
       " '2019-12-05',\n",
       " '2019-12-04',\n",
       " '2019-12-04',\n",
       " '2019-12-04',\n",
       " '2019-12-04',\n",
       " '2019-12-04',\n",
       " '2019-12-04',\n",
       " '2019-12-04',\n",
       " '2019-12-04',\n",
       " '2019-12-04',\n",
       " '2019-12-04',\n",
       " '2019-12-04',\n",
       " '2019-12-04',\n",
       " '2019-12-03']"
      ]
     },
     "execution_count": 3,
     "metadata": {},
     "output_type": "execute_result"
    }
   ],
   "source": [
    "all_date = []\n",
    "for date in soup.findAll('time'):\n",
    "        if date.has_attr('datetime'):\n",
    "            all_date.append(date['datetime'])\n",
    "        \n",
    "all_date"
   ]
  },
  {
   "cell_type": "code",
   "execution_count": 4,
   "metadata": {},
   "outputs": [
    {
     "data": {
      "text/plain": [
       "[' DXM, subsidiary of UpBit stakeholder Dunamu, works with crypto cybersecurity firm Ledger to launch an institutional crypto asset custody service. ',\n",
       " ' The crypto loans industry is a relatively new sector, and yet many platforms have already established themselves. ',\n",
       " ' Decentralized exchange protocol AirSwap announced that it is running a bug bounty program with rewards up to $20,000 in DAI. ',\n",
       " ' Cryptocurrency exchange Bitfinex and crypto store Bitrefill have partnered to allow the trading platform’s clients to shop with Bitcoin over Lightning Network. ',\n",
       " ' A marketing manager at decentralized payment solution Dash announced that the Dash Explorer will be updated to Insight on January 7th, 2020. ',\n",
       " ' Eight former core developers from Morgan Stanley announced the launch of the Singapore-based Phemex, a new cryptocurrency derivatives trading platform. ',\n",
       " ' Security researchers have discovered a new cryptocurrency-related macOS malware believed to be developed by North Korean hackers at the Lazarus Group. ',\n",
       " ' Crypto mining is “purely technological progress,” a legislative analyst at a blockchain association in Kazakhstan says. ',\n",
       " ' Cryptocurrency exchange Gemini burnt about one-fifth of its total Gemini Dollar stablecoin supply on Dec. 3. ',\n",
       " ' In its new “Outrageous Predictions” report, Danish Saxo Bank says that Asia will launch its own blockchain-based digital asset in 2020. ',\n",
       " ' Bank of Japan Governor Haruhiko Kuroda said that there is no public demand for a central bank digital currency in the country. ',\n",
       " ' Ethereum developers propose a hard fork named Muir Glacier intended to address the impending Ice Age on the Ethereum mainnet. ',\n",
       " ' Canadian venture capital firm secured $320 million to make investments in promising fintech startups around the world, with a particular focus on Canada. ',\n",
       " ' Open Privacy, a non-profit group working on a decentralized metadata-resistant messenger, received 1,044 ZEC from Zcash. ',\n",
       " ' Bitcoin price hovers around the $7,300 mark as the cryptocurrency markets remain sluggish. ']"
      ]
     },
     "execution_count": 4,
     "metadata": {},
     "output_type": "execute_result"
    }
   ],
   "source": [
    "content  = soup.findAll('p',attrs={\"class\":\"post-preview-item-inline__text\"})\n",
    "all_content = [s1.text for s1 in content]\n",
    "all_content"
   ]
  },
  {
   "cell_type": "code",
   "execution_count": 5,
   "metadata": {},
   "outputs": [
    {
     "data": {
      "text/html": [
       "<div>\n",
       "<style scoped>\n",
       "    .dataframe tbody tr th:only-of-type {\n",
       "        vertical-align: middle;\n",
       "    }\n",
       "\n",
       "    .dataframe tbody tr th {\n",
       "        vertical-align: top;\n",
       "    }\n",
       "\n",
       "    .dataframe thead th {\n",
       "        text-align: right;\n",
       "    }\n",
       "</style>\n",
       "<table border=\"1\" class=\"dataframe\">\n",
       "  <thead>\n",
       "    <tr style=\"text-align: right;\">\n",
       "      <th></th>\n",
       "      <th>Article Headlines</th>\n",
       "      <th>Article Date</th>\n",
       "      <th>Article Content</th>\n",
       "    </tr>\n",
       "  </thead>\n",
       "  <tbody>\n",
       "    <tr>\n",
       "      <td>0</td>\n",
       "      <td>Crypto Exchange UpBit’s Operator Launches Cust...</td>\n",
       "      <td>2019-12-05</td>\n",
       "      <td>DXM, subsidiary of UpBit stakeholder Dunamu, ...</td>\n",
       "    </tr>\n",
       "    <tr>\n",
       "      <td>1</td>\n",
       "      <td>Crypto Loans See Solid Growth, Platforms Attra...</td>\n",
       "      <td>2019-12-05</td>\n",
       "      <td>The crypto loans industry is a relatively new...</td>\n",
       "    </tr>\n",
       "    <tr>\n",
       "      <td>2</td>\n",
       "      <td>AirSwap Offers Up to $20,000 For Its Bug Bounty</td>\n",
       "      <td>2019-12-04</td>\n",
       "      <td>Decentralized exchange protocol AirSwap annou...</td>\n",
       "    </tr>\n",
       "    <tr>\n",
       "      <td>3</td>\n",
       "      <td>Bitfinex Allows Lightning Network Shopping on ...</td>\n",
       "      <td>2019-12-04</td>\n",
       "      <td>Cryptocurrency exchange Bitfinex and crypto s...</td>\n",
       "    </tr>\n",
       "    <tr>\n",
       "      <td>4</td>\n",
       "      <td>Dash Decides to Update Dash Explorer to Improv...</td>\n",
       "      <td>2019-12-04</td>\n",
       "      <td>A marketing manager at decentralized payment ...</td>\n",
       "    </tr>\n",
       "    <tr>\n",
       "      <td>5</td>\n",
       "      <td>Former Morgan Stanley Developers Launch Crypto...</td>\n",
       "      <td>2019-12-04</td>\n",
       "      <td>Eight former core developers from Morgan Stan...</td>\n",
       "    </tr>\n",
       "    <tr>\n",
       "      <td>6</td>\n",
       "      <td>Researchers Detect New North Korea-Linked MacO...</td>\n",
       "      <td>2019-12-04</td>\n",
       "      <td>Security researchers have discovered a new cr...</td>\n",
       "    </tr>\n",
       "    <tr>\n",
       "      <td>7</td>\n",
       "      <td>Kazakhstan Won’t Tax Cryptocurrency Mining: Re...</td>\n",
       "      <td>2019-12-04</td>\n",
       "      <td>Crypto mining is “purely technological progre...</td>\n",
       "    </tr>\n",
       "    <tr>\n",
       "      <td>8</td>\n",
       "      <td>Crypto Exchange Gemini Burnt One-Fifth of Its ...</td>\n",
       "      <td>2019-12-04</td>\n",
       "      <td>Cryptocurrency exchange Gemini burnt about on...</td>\n",
       "    </tr>\n",
       "    <tr>\n",
       "      <td>9</td>\n",
       "      <td>Saxo Bank’s Outrageous Prediction 2020: Asia L...</td>\n",
       "      <td>2019-12-04</td>\n",
       "      <td>In its new “Outrageous Predictions” report, D...</td>\n",
       "    </tr>\n",
       "    <tr>\n",
       "      <td>10</td>\n",
       "      <td>No Demand for a State Digital Currency in Japa...</td>\n",
       "      <td>2019-12-04</td>\n",
       "      <td>Bank of Japan Governor Haruhiko Kuroda said t...</td>\n",
       "    </tr>\n",
       "    <tr>\n",
       "      <td>11</td>\n",
       "      <td>Ethereum’s Proposed Hard Fork ‘Muir Glacier’ W...</td>\n",
       "      <td>2019-12-04</td>\n",
       "      <td>Ethereum developers propose a hard fork named...</td>\n",
       "    </tr>\n",
       "    <tr>\n",
       "      <td>12</td>\n",
       "      <td>Canadian Venture Capital Firm Secured $320 Mil...</td>\n",
       "      <td>2019-12-04</td>\n",
       "      <td>Canadian venture capital firm secured $320 mi...</td>\n",
       "    </tr>\n",
       "    <tr>\n",
       "      <td>13</td>\n",
       "      <td>Zcash Donates $40K to Canadian Private Messagi...</td>\n",
       "      <td>2019-12-04</td>\n",
       "      <td>Open Privacy, a non-profit group working on a...</td>\n",
       "    </tr>\n",
       "    <tr>\n",
       "      <td>14</td>\n",
       "      <td>Market Mostly Trades Sideways as Bitcoin Price...</td>\n",
       "      <td>2019-12-03</td>\n",
       "      <td>Bitcoin price hovers around the $7,300 mark a...</td>\n",
       "    </tr>\n",
       "  </tbody>\n",
       "</table>\n",
       "</div>"
      ],
      "text/plain": [
       "                                    Article Headlines Article Date  \\\n",
       "0   Crypto Exchange UpBit’s Operator Launches Cust...   2019-12-05   \n",
       "1   Crypto Loans See Solid Growth, Platforms Attra...   2019-12-05   \n",
       "2     AirSwap Offers Up to $20,000 For Its Bug Bounty   2019-12-04   \n",
       "3   Bitfinex Allows Lightning Network Shopping on ...   2019-12-04   \n",
       "4   Dash Decides to Update Dash Explorer to Improv...   2019-12-04   \n",
       "5   Former Morgan Stanley Developers Launch Crypto...   2019-12-04   \n",
       "6   Researchers Detect New North Korea-Linked MacO...   2019-12-04   \n",
       "7   Kazakhstan Won’t Tax Cryptocurrency Mining: Re...   2019-12-04   \n",
       "8   Crypto Exchange Gemini Burnt One-Fifth of Its ...   2019-12-04   \n",
       "9   Saxo Bank’s Outrageous Prediction 2020: Asia L...   2019-12-04   \n",
       "10  No Demand for a State Digital Currency in Japa...   2019-12-04   \n",
       "11  Ethereum’s Proposed Hard Fork ‘Muir Glacier’ W...   2019-12-04   \n",
       "12  Canadian Venture Capital Firm Secured $320 Mil...   2019-12-04   \n",
       "13  Zcash Donates $40K to Canadian Private Messagi...   2019-12-04   \n",
       "14  Market Mostly Trades Sideways as Bitcoin Price...   2019-12-03   \n",
       "\n",
       "                                      Article Content  \n",
       "0    DXM, subsidiary of UpBit stakeholder Dunamu, ...  \n",
       "1    The crypto loans industry is a relatively new...  \n",
       "2    Decentralized exchange protocol AirSwap annou...  \n",
       "3    Cryptocurrency exchange Bitfinex and crypto s...  \n",
       "4    A marketing manager at decentralized payment ...  \n",
       "5    Eight former core developers from Morgan Stan...  \n",
       "6    Security researchers have discovered a new cr...  \n",
       "7    Crypto mining is “purely technological progre...  \n",
       "8    Cryptocurrency exchange Gemini burnt about on...  \n",
       "9    In its new “Outrageous Predictions” report, D...  \n",
       "10   Bank of Japan Governor Haruhiko Kuroda said t...  \n",
       "11   Ethereum developers propose a hard fork named...  \n",
       "12   Canadian venture capital firm secured $320 mi...  \n",
       "13   Open Privacy, a non-profit group working on a...  \n",
       "14   Bitcoin price hovers around the $7,300 mark a...  "
      ]
     },
     "execution_count": 5,
     "metadata": {},
     "output_type": "execute_result"
    }
   ],
   "source": [
    "df = pd.DataFrame({'Article Headlines':all_headline,'Article Date':all_date,'Article Content':all_content})\n",
    "df"
   ]
  },
  {
   "cell_type": "code",
   "execution_count": 6,
   "metadata": {},
   "outputs": [],
   "source": [
    "#To be only runned once\n",
    "#df.to_csv('cryptocurrency_news.csv', sep=',', encoding='utf-8',index=False)"
   ]
  },
  {
   "cell_type": "code",
   "execution_count": 7,
   "metadata": {},
   "outputs": [],
   "source": [
    "#Append any consecutive scrapped data from website to the existing csv file\n",
    "#When running this line, csv file must be closed\n",
    "df.to_csv('cryptocurrency_news.csv', mode='a', header=False, sep=',', index=False)"
   ]
  },
  {
   "cell_type": "code",
   "execution_count": null,
   "metadata": {},
   "outputs": [],
   "source": []
  }
 ],
 "metadata": {
  "kernelspec": {
   "display_name": "Python 3",
   "language": "python",
   "name": "python3"
  },
  "language_info": {
   "codemirror_mode": {
    "name": "ipython",
    "version": 3
   },
   "file_extension": ".py",
   "mimetype": "text/x-python",
   "name": "python",
   "nbconvert_exporter": "python",
   "pygments_lexer": "ipython3",
   "version": "3.7.4"
  }
 },
 "nbformat": 4,
 "nbformat_minor": 2
}
